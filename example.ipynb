{
 "cells": [
  {
   "cell_type": "markdown",
   "id": "1d2e797f-4ece-434e-b0f5-f9867ea37d39",
   "metadata": {},
   "source": [
    "# CHPyT\n"
   ]
  },
  {
   "cell_type": "markdown",
   "id": "47ea0b99-6514-4133-8e0d-b74f9983e41e",
   "metadata": {},
   "source": [
    "I'll be sharing here some examples about how to use the code that I am developing, just in case you also want to use it. The code is in progress so I will be explaining its functionalities when I actually implement them"
   ]
  },
  {
   "cell_type": "markdown",
   "id": "0cc2d3e7-e72b-4fde-bd26-995a7f0f5aa5",
   "metadata": {},
   "source": [
    "The code is very basic and I am open to every type of suggestions (about its desing, the algorithms, naming choices, etc...)"
   ]
  },
  {
   "cell_type": "markdown",
   "id": "c6830992-d041-4b69-b141-ecb79644151a",
   "metadata": {},
   "source": [
    "### File poly.py"
   ]
  },
  {
   "cell_type": "markdown",
   "id": "5a4a682a-5866-44c1-bd6b-aef1af184ba6",
   "metadata": {},
   "source": [
    "This file contains the basics of symbolic expression manipulation. It allows you to create Symbols and multpliply/add them to create expressions."
   ]
  },
  {
   "cell_type": "markdown",
   "id": "af81e4d8-eb29-4507-a2b5-4cf8bf6a0eaa",
   "metadata": {},
   "source": [
    "Right now it is only capable of showing expanded results, i.e. without any commom factor ((3-a)(b+c) will be shown as 3b+3c-ab-ac). I believe that showing factorized results should not be very hard to do and I may implement it in some near future"
   ]
  },
  {
   "cell_type": "markdown",
   "id": "14475210-4d12-4632-8f34-4020770e0af4",
   "metadata": {},
   "source": [
    "As this is a basic code it can only work with simple polynomical expressions. Let's create some symbols!"
   ]
  },
  {
   "cell_type": "code",
   "execution_count": 12,
   "id": "d7a436dc-5946-4a77-bf2b-c95e5a3d87c3",
   "metadata": {},
   "outputs": [],
   "source": [
    "import poly"
   ]
  },
  {
   "cell_type": "code",
   "execution_count": 13,
   "id": "a1dfef82-368f-4839-b078-7eda1c1547e2",
   "metadata": {},
   "outputs": [],
   "source": [
    "a = poly.Symbol(\"a\")\n",
    "b = poly.Symbol(\"b\")\n",
    "c = poly.Symbol(\"c\")\n",
    "d = poly.Symbol(\"d\")"
   ]
  },
  {
   "cell_type": "markdown",
   "id": "a2e9b472-0663-4867-8522-96c5db43f97a",
   "metadata": {},
   "source": [
    "This will allow you to perform expression manipulation as would do in any other software. **Please tell me if you encounter any bugs!**"
   ]
  },
  {
   "cell_type": "code",
   "execution_count": 14,
   "id": "2b962710-f617-478f-a57f-6cf3f798aac9",
   "metadata": {},
   "outputs": [
    {
     "data": {
      "text/plain": [
       "6*a*c + 10*a*d^2 + -3*b*c + -5*b*d^2"
      ]
     },
     "execution_count": 14,
     "metadata": {},
     "output_type": "execute_result"
    }
   ],
   "source": [
    "expr = (2*a-b)*(3*c+5*d**2)\n",
    "expr"
   ]
  },
  {
   "cell_type": "markdown",
   "id": "58f7f71e-2414-4a83-8cc0-2bdde989d1fc",
   "metadata": {},
   "source": [
    "### File physics.py"
   ]
  },
  {
   "cell_type": "markdown",
   "id": "dd369a78-918b-40b6-9152-62639d54f7cf",
   "metadata": {},
   "source": [
    "This file contains the objects needed to perform the ChPT computations. The first object that we main want to create is a Scalar Field"
   ]
  },
  {
   "cell_type": "code",
   "execution_count": 15,
   "id": "4929374c-7a63-4d3d-b428-6f43328daf74",
   "metadata": {},
   "outputs": [],
   "source": [
    "import physics\n",
    "import greeksymbols as gs"
   ]
  },
  {
   "cell_type": "code",
   "execution_count": 17,
   "id": "2200f66c-454e-43a4-b18e-857cf464b4f1",
   "metadata": {},
   "outputs": [],
   "source": [
    "x = poly.Symbol(\"x\")\n",
    "\n",
    "# To create an ScalarField we need to provide something to act as a symbol and the point in which it is evaluated (for now it is not important)\n",
    "pi0 = physics.ScalarField(gs.pi+\"0\",\"x\")\n",
    "pip = physics.ScalarField(gs.pi+\"⁺\",\"x\")\n",
    "pim = physics.ScalarField(gs.pi+\"⁻\",\"x\")\n",
    "\n",
    "# Something important is that you need to link corresponding antiparticles.\n",
    "# If a particle is not linked an antiparticle, it will assume it is its own antiparticle.\n",
    "# This will affect how wick's contractions are taken\n",
    "physics.ScalarField.link_antiparticles(pip,pim)"
   ]
  },
  {
   "cell_type": "markdown",
   "id": "27cdb758-a2f9-42ff-9095-72b88c7a998e",
   "metadata": {},
   "source": [
    "Now we can perform operations with these Scalar Fields"
   ]
  },
  {
   "cell_type": "code",
   "execution_count": 22,
   "id": "ecae407f-1ee5-40b8-913c-aeb292851ab5",
   "metadata": {},
   "outputs": [
    {
     "data": {
      "text/plain": [
       "2*π0(x)^2*π⁺(x)*π⁻(x)"
      ]
     },
     "execution_count": 22,
     "metadata": {},
     "output_type": "execute_result"
    }
   ],
   "source": [
    "expr = 2*pi0**2*pip*pim\n",
    "expr"
   ]
  },
  {
   "cell_type": "markdown",
   "id": "f555a882-c806-46b4-8282-0aeefbdd3550",
   "metadata": {},
   "source": [
    "We can also take derivatives of the fields. We need to specify some index (also a symbol)"
   ]
  },
  {
   "cell_type": "code",
   "execution_count": 23,
   "id": "618bb857-9bea-46eb-910d-bc2b314419dd",
   "metadata": {},
   "outputs": [
    {
     "data": {
      "text/plain": [
       "∂_μ(π0(x))"
      ]
     },
     "execution_count": 23,
     "metadata": {},
     "output_type": "execute_result"
    }
   ],
   "source": [
    "mu = poly.Symbol(gs.mu)\n",
    "\n",
    "partial_expr = pi0.partial(mu)\n",
    "partial_expr"
   ]
  },
  {
   "cell_type": "markdown",
   "id": "cc06c3e3-ad79-4cca-b7ae-83934cebe120",
   "metadata": {},
   "source": [
    "We can also derivate whole expressions"
   ]
  },
  {
   "cell_type": "code",
   "execution_count": 24,
   "id": "78452c01-1b9d-4014-9111-dbcb469edf52",
   "metadata": {},
   "outputs": [
    {
     "name": "stdout",
     "output_type": "stream",
     "text": [
      "Expression before partial\n",
      "2*π0(x)^2*π⁺(x)*π⁻(x)\n",
      "Expression after partial\n",
      "4*π0(x)*π⁺(x)*π⁻(x)*∂_μ(π0(x)) + 2*π0(x)^2*π⁻(x)*∂_μ(π⁺(x)) + 2*π0(x)^2*π⁺(x)*∂_μ(π⁻(x))\n"
     ]
    }
   ],
   "source": [
    "print(\"Expression before partial\")\n",
    "print(expr)\n",
    "print(\"Expression after partial\")\n",
    "print(expr.partial(mu))"
   ]
  },
  {
   "cell_type": "markdown",
   "id": "2dc13159-4dbf-4e76-8752-4467541cd369",
   "metadata": {},
   "source": [
    "The cool thing is that we can use these custom made objects within numpy's functions. For example, for SU(2) chpt:"
   ]
  },
  {
   "cell_type": "code",
   "execution_count": 25,
   "id": "a7a9b1b8-97d3-479c-8644-8fc6c44a5ba3",
   "metadata": {},
   "outputs": [],
   "source": [
    "import numpy as np"
   ]
  },
  {
   "cell_type": "code",
   "execution_count": 27,
   "id": "6fa9ca6c-e837-462e-8f9d-c5ef7f87e429",
   "metadata": {},
   "outputs": [
    {
     "data": {
      "text/plain": [
       "array([[0.7071067811865475*π0(x), π⁺(x)],\n",
       "       [π⁻(x), -0.7071067811865475*π0(x)]], dtype=object)"
      ]
     },
     "execution_count": 27,
     "metadata": {},
     "output_type": "execute_result"
    }
   ],
   "source": [
    "phi = np.array([[(1/np.sqrt(2))*pi0, pip],[pim, -(1/np.sqrt(2))*pi0]])\n",
    "phi"
   ]
  },
  {
   "cell_type": "markdown",
   "id": "527870bd-37f4-4e77-ab3b-e8fff93b528c",
   "metadata": {},
   "source": [
    "Note that sqrts and fractions are evaluated numerically. I want to change this in the future"
   ]
  },
  {
   "cell_type": "markdown",
   "id": "ccebe92c-0028-4bf2-81fc-07037371d6a9",
   "metadata": {},
   "source": [
    "Now, we can compute the Lagrangian:"
   ]
  },
  {
   "cell_type": "code",
   "execution_count": 30,
   "id": "9c343082-b205-41c4-ba18-945932d4c5df",
   "metadata": {},
   "outputs": [],
   "source": [
    "import copy"
   ]
  },
  {
   "cell_type": "code",
   "execution_count": 33,
   "id": "eb2377ed-1076-439a-b17e-babef6a50754",
   "metadata": {},
   "outputs": [],
   "source": [
    "f = poly.Symbol(\"f\")\n",
    "U = np.eye(2) + 1j*np.sqrt(2)*f**(-1)*phi - 1*f**(-2)*np.matmul(phi,phi) - 1j*(np.sqrt(2)/3)*f**(-3)*np.matmul(phi,np.matmul(phi,phi))\n",
    "Udag = np.eye(2) - 1j*np.sqrt(2)*f**(-1)*phi - 1*f**(-2)*np.matmul(phi,phi) + 1j*(np.sqrt(2)/3)*f**(-3)*np.matmul(phi,np.matmul(phi,phi))\n",
    "\n",
    "# The function partial does not work with numpy arrays (yet) so we need to iterate over the matrix elements.\n",
    "pU = copy.deepcopy(U)\n",
    "pUdag = copy.deepcopy(Udag)\n",
    "for ii in range(len(pU)):\n",
    "    for jj in range(len(pU)):\n",
    "        pU[ii,jj] = pU[ii,jj].partial(mu)\n",
    "        pUdag[ii,jj] = pUdag[ii,jj].partial(mu)"
   ]
  },
  {
   "cell_type": "code",
   "execution_count": 35,
   "id": "9666f4e8-7ca9-480d-a5e4-12ec7dc73df4",
   "metadata": {},
   "outputs": [],
   "source": [
    "Lag2 = f**2*(1/4)*np.trace(np.matmul(pUdag,pU))"
   ]
  },
  {
   "cell_type": "code",
   "execution_count": 36,
   "id": "38d4b8fa-24af-41ff-b6e8-e45f988fdcdd",
   "metadata": {},
   "outputs": [
    {
     "data": {
      "text/plain": [
       "(0.5+0j)*∂_μ(π0(x))^2 + (0.24999999999999978+0j)*f^(-2)*π0(x)^2*∂_μ(π0(x))^2 + (-0.16666666666666666+0j)*f^(-2)*π⁺(x)*π⁻(x)*∂_μ(π0(x))^2 + (0.6666666666666665+0j)*f^(-2)*π0(x)*π⁻(x)*∂_μ(π0(x))*∂_μ(π⁺(x)) + (0.6666666666666665+0j)*f^(-2)*π0(x)*π⁺(x)*∂_μ(π0(x))*∂_μ(π⁻(x)) + (0.3333333333333333+0j)*f^(-2)*π⁻(x)^2*∂_μ(π⁺(x))^2 + (0.33333333333333326+0j)*f^(-2)*π⁺(x)*π⁻(x)*∂_μ(π⁺(x))*∂_μ(π⁻(x)) + (0.3333333333333333+0j)*f^(-2)*π⁺(x)^2*∂_μ(π⁻(x))^2 + (-0.25+0j)*f^(-2)*π0(x)^2*∂_μ(π0(x))^2 + (0.125+0j)*f^(-4)*π0(x)^4*∂_μ(π0(x))^2 + (0.27777777777777773+0j)*f^(-4)*π0(x)^2*π⁺(x)*π⁻(x)*∂_μ(π0(x))^2 + (0.2222222222222222+0j)*f^(-4)*π0(x)^3*π⁻(x)*∂_μ(π0(x))*∂_μ(π⁺(x)) + (0.2222222222222222+0j)*f^(-4)*π0(x)^3*π⁺(x)*∂_μ(π0(x))*∂_μ(π⁻(x)) + (-0.16666666666666666+0j)*f^(-2)*π⁺(x)*π⁻(x)*∂_μ(π0(x))^2 + (0.05555555555555555+0j)*f^(-4)*π⁺(x)^2*π⁻(x)^2*∂_μ(π0(x))^2 + (0.4444444444444444+0j)*f^(-4)*π0(x)*π⁺(x)*π⁻(x)^2*∂_μ(π0(x))*∂_μ(π⁺(x)) + (0.4444444444444444+0j)*f^(-4)*π0(x)*π⁺(x)^2*π⁻(x)*∂_μ(π0(x))*∂_μ(π⁻(x)) + (-0.3333333333333333+0j)*f^(-2)*π0(x)*π⁻(x)*∂_μ(π0(x))*∂_μ(π⁺(x)) + (0.1111111111111111+0j)*f^(-4)*π0(x)^2*π⁻(x)^2*∂_μ(π⁺(x))^2 + (0.3333333333333333+0j)*f^(-4)*π0(x)^2*π⁺(x)*π⁻(x)*∂_μ(π⁺(x))*∂_μ(π⁻(x)) + (-0.3333333333333333+0j)*f^(-2)*π0(x)*π⁺(x)*∂_μ(π0(x))*∂_μ(π⁻(x)) + (0.1111111111111111+0j)*f^(-4)*π0(x)^2*π⁺(x)^2*∂_μ(π⁻(x))^2 + (1.0000000000000002+0j)*∂_μ(π⁺(x))*∂_μ(π⁻(x)) + (-0.16666666666666666-0j)*f^(-2)*π0(x)^2*∂_μ(π⁺(x))*∂_μ(π⁻(x)) + (-0.6666666666666667+0j)*f^(-2)*π⁺(x)*π⁻(x)*∂_μ(π⁺(x))*∂_μ(π⁻(x)) + (0.5555555555555557+0j)*f^(-4)*π⁺(x)^2*π⁻(x)^2*∂_μ(π⁺(x))*∂_μ(π⁻(x)) + (0.22222222222222227+0j)*f^(-4)*π⁺(x)*π⁻(x)^3*∂_μ(π⁺(x))^2 + (-0.16666666666666669+0j)*f^(-2)*π⁺(x)^2*∂_μ(π⁻(x))^2 + (0.22222222222222227+0j)*f^(-4)*π⁺(x)^3*π⁻(x)*∂_μ(π⁻(x))^2 + (-0.16666666666666666+0j)*f^(-2)*π0(x)^2*∂_μ(π⁺(x))*∂_μ(π⁻(x)) + (0.02777777777777777+0j)*f^(-4)*π0(x)^4*∂_μ(π⁺(x))*∂_μ(π⁻(x)) + (-0.16666666666666669+0j)*f^(-2)*π⁻(x)^2*∂_μ(π⁺(x))^2"
      ]
     },
     "execution_count": 36,
     "metadata": {},
     "output_type": "execute_result"
    }
   ],
   "source": [
    "Lag2"
   ]
  },
  {
   "cell_type": "markdown",
   "id": "493c6562-5aff-4885-b8cc-ed1fa63218c9",
   "metadata": {},
   "source": [
    "### Diagram generation"
   ]
  },
  {
   "cell_type": "markdown",
   "id": "e873b91b-292a-43f7-a755-501d8f43683a",
   "metadata": {},
   "source": [
    "If we want to generate a diagram we need to first define the correlation function that we want to study. For example the 4 point pip pip -> pip pip: "
   ]
  },
  {
   "cell_type": "code",
   "execution_count": 40,
   "id": "4a445d21-cc44-4591-b1ca-172c3d1926ea",
   "metadata": {},
   "outputs": [
    {
     "data": {
      "text/plain": [
       "π⁺(a)*π⁺(b)*π⁻(c)*π⁻(d)"
      ]
     },
     "execution_count": 40,
     "metadata": {},
     "output_type": "execute_result"
    }
   ],
   "source": [
    "# I will call the external points a, b, c, and d\n",
    "corr = pip.change_point(a)*pip.change_point(b)*pim.change_point(c)*pim.change_point(d)\n",
    "\n",
    "corr"
   ]
  },
  {
   "cell_type": "markdown",
   "id": "0dd726d8-0e0f-4258-8453-4ecd488c6648",
   "metadata": {},
   "source": [
    "Now we need to pass a list of the operators that the want to insert, for example if we want to generate two insertions of the operator $\\pi^+*\\pi^-*\\pi0^2$ then:"
   ]
  },
  {
   "cell_type": "code",
   "execution_count": 41,
   "id": "e19b9d6f-e682-4291-9936-ae0678417f48",
   "metadata": {},
   "outputs": [],
   "source": [
    "operator = pip*pim*pi0**2"
   ]
  },
  {
   "cell_type": "markdown",
   "id": "ea4c520a-3913-4bda-acf0-05cc9c17be71",
   "metadata": {},
   "source": [
    "Now we can generate diagramas as follows:"
   ]
  },
  {
   "cell_type": "code",
   "execution_count": 42,
   "id": "cb4eef8a-c265-49ba-aee4-408b8069c058",
   "metadata": {},
   "outputs": [
    {
     "data": {
      "text/plain": [
       "[2]D_π0(int1-int2)^2*D_π⁻(d-int2)*D_π⁺(b-int2)*D_π⁻(c-int1)*D_π⁺(a-int1) + [2]D_π0(int1-int2)^2*D_π⁻(d-int1)*D_π⁺(b-int2)*D_π⁻(c-int2)*D_π⁺(a-int1) + [2]D_π0(int1-int2)^2*D_π⁺(b-int1)*D_π⁻(d-int2)*D_π⁻(c-int1)*D_π⁺(a-int2) + [2]D_π0(int1-int2)^2*D_π⁺(b-int1)*D_π⁻(d-int1)*D_π⁻(c-int2)*D_π⁺(a-int2)"
      ]
     },
     "execution_count": 42,
     "metadata": {},
     "output_type": "execute_result"
    }
   ],
   "source": [
    "diagrams = physics.Diagram.generate(corr,[operator,operator])\n",
    "diagrams"
   ]
  },
  {
   "cell_type": "markdown",
   "id": "295156d5-1961-4bfd-a681-cb6e8b07f4bd",
   "metadata": {},
   "source": [
    "The internal points are called \"intii\" where ii in an index. This diagrams should have the correct symmetry factor"
   ]
  },
  {
   "cell_type": "markdown",
   "id": "c4b22b27-60e5-4367-beae-9ca15a48b006",
   "metadata": {},
   "source": [
    "The idea is to iterate over the lagrangian operators to generate all desired diagrams.\n",
    "Right now, if an operator has a derivative, it should give the correct sym factor but it will not do the Fourier transform so no momentum will appear. (I will soon implement this but I am thinking about what is the best way of doing this)"
   ]
  },
  {
   "cell_type": "code",
   "execution_count": null,
   "id": "b43ffb97-191a-4af3-8c19-1221674665c9",
   "metadata": {},
   "outputs": [],
   "source": []
  }
 ],
 "metadata": {
  "kernelspec": {
   "display_name": "Python 3 (ipykernel)",
   "language": "python",
   "name": "python3"
  },
  "language_info": {
   "codemirror_mode": {
    "name": "ipython",
    "version": 3
   },
   "file_extension": ".py",
   "mimetype": "text/x-python",
   "name": "python",
   "nbconvert_exporter": "python",
   "pygments_lexer": "ipython3",
   "version": "3.13.1"
  }
 },
 "nbformat": 4,
 "nbformat_minor": 5
}
